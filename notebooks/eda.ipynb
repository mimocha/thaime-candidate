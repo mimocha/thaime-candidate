{
 "cells": [
  {
   "cell_type": "code",
   "execution_count": null,
   "id": "70d4f4fa",
   "metadata": {},
   "outputs": [],
   "source": [
    "import re\n",
    "from collections import Counter\n",
    "from functools import reduce\n",
    "from datetime import datetime\n",
    "\n",
    "import pandas as pd\n",
    "import numpy as np\n",
    "from pythainlp.tokenize import word_tokenize\n",
    "import matplotlib.pyplot as plt\n",
    "\n",
    "timestamp_log = lambda msg: print(f\"[{datetime.now().strftime('%H:%M:%S')}] | {msg}\")"
   ]
  },
  {
   "cell_type": "code",
   "execution_count": null,
   "id": "7d42cdb4",
   "metadata": {},
   "outputs": [],
   "source": [
    "def text_cleaning(input_text: str) -> str:\n",
    "    # Keep Thai characters (ก-ฮ, vowels, tone marks), basic Latin (a-z, A-Z), numbers (0-9),\n",
    "    # and the important Thai symbols ๆ, ฯ.\n",
    "    # The pattern [^\\u0E00-\\u0E7Fa-zA-Z0-9\\s] matches anything that is NOT in the allowed set.\n",
    "    # We add a space around these to ensure words don't merge.\n",
    "    text = re.sub(r'([^\\u0E00-\\u0E7Fa-zA-Z0-9.,])', r' ', input_text)\n",
    "\n",
    "    # Collapse multiple whitespace characters into a single space\n",
    "    text = re.sub(r'\\s+', ' ', text).strip()\n",
    "\n",
    "    return text\n",
    "\n",
    "def text_tokenize(input_text: str) -> list[str]:\n",
    "    return word_tokenize(input_text, engine='newmm', keep_whitespace=False)\n",
    "\n",
    "def text_count(input_list: list[str]) -> Counter:\n",
    "    return Counter(input_list)"
   ]
  },
  {
   "cell_type": "code",
   "execution_count": null,
   "id": "76743998",
   "metadata": {},
   "outputs": [],
   "source": [
    "# Prachathai Corpus\n",
    "timestamp_log(\"Reading Prachathai Corpus...\")\n",
    "df = pd.read_csv(\n",
    "    \"../data/prachathai-67k/prachathai-67k.csv\",\n",
    "    sep=\",\",\n",
    "    usecols=[\"title\",\"body_text\"],\n",
    "    nrows=1000\n",
    "    )\n",
    "\n",
    "timestamp_log(\"Text Cleaning...\")\n",
    "df = df.map(text_cleaning)\n",
    "timestamp_log(\"Text Tokenization...\")\n",
    "df = df.map(text_tokenize)\n",
    "timestamp_log(\"Text Counting...\")\n",
    "df = df.map(text_count)\n",
    "\n",
    "timestamp_log(\"Formatting Output...\")\n",
    "output = df.values.reshape((1,-1)).squeeze().tolist()\n",
    "combined_counter = reduce(lambda x, y: x + y, output)\n",
    "\n",
    "timestamp_log(\"Calculating Frequency...\")\n",
    "word_freq = dict()\n",
    "total_counts = combined_counter.total()\n",
    "for word, counts in combined_counter.items():\n",
    "    word_freq[word] = counts / total_counts\n",
    "\n",
    "timestamp_log(\"Done!\")"
   ]
  },
  {
   "cell_type": "code",
   "execution_count": null,
   "id": "6115adb0",
   "metadata": {},
   "outputs": [],
   "source": [
    "word_freq"
   ]
  }
 ],
 "metadata": {
  "kernelspec": {
   "display_name": "thaime",
   "language": "python",
   "name": "python3"
  },
  "language_info": {
   "codemirror_mode": {
    "name": "ipython",
    "version": 3
   },
   "file_extension": ".py",
   "mimetype": "text/x-python",
   "name": "python",
   "nbconvert_exporter": "python",
   "pygments_lexer": "ipython3",
   "version": "3.13.5"
  }
 },
 "nbformat": 4,
 "nbformat_minor": 5
}
