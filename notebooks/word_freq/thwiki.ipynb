{
 "cells": [
  {
   "cell_type": "code",
   "execution_count": null,
   "id": "4926bf2d",
   "metadata": {},
   "outputs": [],
   "source": [
    "import sys\n",
    "sys.path.append('../..')\n",
    "import json\n",
    "import re\n",
    "from collections import Counter\n",
    "from datetime import datetime\n",
    "from xml.etree.ElementTree import iterparse\n",
    "\n",
    "from tqdm import tqdm\n",
    "\n",
    "from utils.word_freq import *\n",
    "\n",
    "timestamp_log = lambda msg: print(f\"[{datetime.now().strftime('%H:%M:%S')}] | {msg}\")\n",
    "\n",
    "INPUT_PATH = \"../../raw_data/thwiki/thwiki-latest-pages-articles.xml\"\n",
    "OUTPUT_PATH = \"../../artifacts/word_freq/thwiki.json\""
   ]
  },
  {
   "cell_type": "code",
   "execution_count": null,
   "id": "8616f4d6",
   "metadata": {},
   "outputs": [],
   "source": [
    "# Thai Wikipedia\n",
    "timestamp_log(\"Processing Thai Wikipedia Corpus...\")\n",
    "\n",
    "# Get total number of pages for tqdm progress bar\n",
    "total_elements = 0\n",
    "for event, elem in iterparse(INPUT_PATH, events=('end',)):\n",
    "    total_elements += 1\n",
    "    # Clear the element to free up memory\n",
    "    elem.clear()\n",
    "\n",
    "timestamp_log(f\"Total number of items to process: {total_elements}\")\n",
    "\n",
    "word_counter = Counter()\n",
    "# Use iterparse to stream-process the large XML file\n",
    "# This is to avoid loading the entire 3GB file into memory\n",
    "for event, elem in tqdm(iterparse(INPUT_PATH, events=('end',)), total=total_elements):\n",
    "    # Article contents are enclosed in a <text> tag\n",
    "    if elem.tag.endswith('text'):\n",
    "        if elem.text is not None:\n",
    "            # 1. Text Cleaning\n",
    "            cleaned_text = text_cleaning(elem.text)\n",
    "            # 2. Text Tokenization\n",
    "            tokens = text_tokenize(cleaned_text)\n",
    "            # 3. Word Counting\n",
    "            word_counter.update(tokens)\n",
    "        \n",
    "        # Clear the element to free up memory\n",
    "        elem.clear()\n",
    "\n",
    "timestamp_log(f\"Finished processing the corpus.\")"
   ]
  },
  {
   "cell_type": "code",
   "execution_count": null,
   "id": "26d1d2d8",
   "metadata": {},
   "outputs": [],
   "source": [
    "timestamp_log(\"Filtering Counter...\")\n",
    "filtered_counter = filter_token_counter(word_counter)\n",
    "\n",
    "timestamp_log(\"Calculating Frequency...\")\n",
    "word_frequency = normalize_frequency(filtered_counter)\n",
    "\n",
    "timestamp_log(\"Done!\")"
   ]
  },
  {
   "cell_type": "code",
   "execution_count": null,
   "id": "2b10a5c0",
   "metadata": {},
   "outputs": [],
   "source": [
    "with open(OUTPUT_PATH, \"w\", encoding=\"utf-8\") as f:\n",
    "    json.dump(word_frequency, f, ensure_ascii=False, indent=2)\n",
    "\n",
    "timestamp_log(f\"Saved to: {OUTPUT_PATH}\")"
   ]
  }
 ],
 "metadata": {
  "kernelspec": {
   "display_name": "thaime",
   "language": "python",
   "name": "python3"
  },
  "language_info": {
   "codemirror_mode": {
    "name": "ipython",
    "version": 3
   },
   "file_extension": ".py",
   "mimetype": "text/x-python",
   "name": "python",
   "nbconvert_exporter": "python",
   "pygments_lexer": "ipython3",
   "version": "3.13.5"
  }
 },
 "nbformat": 4,
 "nbformat_minor": 5
}
