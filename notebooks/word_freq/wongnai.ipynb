{
 "cells": [
  {
   "cell_type": "code",
   "execution_count": null,
   "id": "0cda7345",
   "metadata": {},
   "outputs": [],
   "source": [
    "import sys\n",
    "sys.path.append('../..')\n",
    "from collections import Counter\n",
    "from datetime import datetime\n",
    "\n",
    "import pandas as pd\n",
    "from tqdm import tqdm\n",
    "\n",
    "from utils.word_freq import *\n",
    "\n",
    "timestamp_log = lambda msg: print(f\"[{datetime.now().strftime('%H:%M:%S')}] | {msg}\")\n",
    "\n",
    "INPUT_PATHS = [\n",
    "    \"../../raw_data/wongnai/train.csv\",\n",
    "    \"../../raw_data/wongnai/test.csv\"\n",
    "    ]\n",
    "OUTPUT_PATH = \"../../artifacts/word_freq/wongnai.json\""
   ]
  },
  {
   "cell_type": "code",
   "execution_count": null,
   "id": "18fd7f5a",
   "metadata": {},
   "outputs": [],
   "source": [
    "# Wongnai Corpus\n",
    "timestamp_log(\"Reading Wongnai Corpus...\")\n",
    "temp_dfs = list()\n",
    "\n",
    "_df_train = pd.read_csv(\n",
    "    INPUT_PATHS[0],\n",
    "    sep=\";\",\n",
    "    usecols=[\"review\"],\n",
    "    quotechar='\"',\n",
    "    )\n",
    "temp_dfs.append(_df_train)\n",
    "\n",
    "_df_test = pd.read_csv(\n",
    "    INPUT_PATHS[1],\n",
    "    sep=\";\",\n",
    "    usecols=[\"review\"],\n",
    "    quotechar='\"',\n",
    "    )\n",
    "temp_dfs.append(_df_test)\n",
    "\n",
    "df = pd.concat(temp_dfs)\n",
    "del temp_dfs\n",
    "timestamp_log(f\"Dataframe shape: {df.shape}\")\n",
    "\n",
    "timestamp_log(\"Text Cleaning...\")\n",
    "df = df.map(text_cleaning)\n",
    "\n",
    "timestamp_log(\"Reshaping...\")\n",
    "list_of_sentence = df.values.squeeze().tolist()\n",
    "timestamp_log(f\"Sentence List size: {len(list_of_sentence)}\")\n",
    "\n",
    "timestamp_log(\"Text Tokenization & Word Counting...\")\n",
    "list_of_words = list()\n",
    "word_counter = Counter()\n",
    "for sentence in tqdm(list_of_sentence, total=len(list_of_sentence)):\n",
    "    tokens = text_tokenize(sentence)\n",
    "    list_of_words.append(tokens)\n",
    "    word_counter.update(tokens)\n",
    "timestamp_log(f\"Word List size: {len(list_of_words)}\")\n",
    "\n",
    "timestamp_log(\"Filtering Counter...\")\n",
    "filtered_counter = filter_token_counter(word_counter)\n",
    "\n",
    "timestamp_log(\"Calculating Frequency...\")\n",
    "word_frequency = normalize_frequency(filtered_counter)\n",
    "\n",
    "timestamp_log(\"Done!\")"
   ]
  },
  {
   "cell_type": "code",
   "execution_count": null,
   "id": "b008e5bc",
   "metadata": {},
   "outputs": [],
   "source": [
    "import json\n",
    "\n",
    "with open(OUTPUT_PATH, \"w\", encoding=\"utf-8\") as f:\n",
    "    json.dump(word_frequency, f, ensure_ascii=False, indent=2)\n",
    "\n",
    "timestamp_log(f\"Saved to: {OUTPUT_PATH}\")"
   ]
  }
 ],
 "metadata": {
  "kernelspec": {
   "display_name": "thaime",
   "language": "python",
   "name": "python3"
  },
  "language_info": {
   "codemirror_mode": {
    "name": "ipython",
    "version": 3
   },
   "file_extension": ".py",
   "mimetype": "text/x-python",
   "name": "python",
   "nbconvert_exporter": "python",
   "pygments_lexer": "ipython3",
   "version": "3.13.5"
  }
 },
 "nbformat": 4,
 "nbformat_minor": 5
}
