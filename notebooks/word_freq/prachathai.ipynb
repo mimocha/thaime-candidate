{
 "cells": [
  {
   "cell_type": "code",
   "execution_count": null,
   "id": "70d4f4fa",
   "metadata": {},
   "outputs": [],
   "source": [
    "import re\n",
    "from collections import Counter\n",
    "from datetime import datetime\n",
    "\n",
    "import pandas as pd\n",
    "import numpy as np\n",
    "from pythainlp.tokenize import word_tokenize\n",
    "import matplotlib.pyplot as plt\n",
    "from tqdm import tqdm\n",
    "\n",
    "timestamp_log = lambda msg: print(f\"[{datetime.now().strftime('%H:%M:%S')}] | {msg}\")\n",
    "\n",
    "INPUT_PATH = \"../../raw_data/prachathai/prachathai-67k.csv\"\n",
    "OUTPUT_PATH = \"../../artifacts/word_freq/prachathai.json\""
   ]
  },
  {
   "cell_type": "code",
   "execution_count": 2,
   "id": "7d42cdb4",
   "metadata": {},
   "outputs": [],
   "source": [
    "def text_cleaning(input_text: str) -> str:\n",
    "    # Lowercase transform any Latin text\n",
    "    # text = input_text.lower()\n",
    "\n",
    "    # Keep Thai characters (https://th.wikipedia.org/wiki/Thai_(บล็อกยูนิโคด))\n",
    "    # numbers (0-9), periods and comma\n",
    "    # Replace anything else with whitespace\n",
    "    text = re.sub(r'([^\\u0E01-\\u0E3A\\u0E40-\\u0E4E\\u0E50-\\u0E590-9.,])', r' ', input_text)\n",
    "\n",
    "    # Replace Arabic & Thai numbers with a special token\n",
    "    text = re.sub(r'[\\d\\u0E50-\\u0E59][\\d\\u0E50-\\u0E59.,]*', '<NUM>', text)\n",
    "\n",
    "    # Collapse multiple consequtive whitespace characters into a single space\n",
    "    text = re.sub(r'\\s+', ' ', text)\n",
    "\n",
    "    return text\n",
    "\n",
    "def text_tokenize(input_text: str) -> list[str]:\n",
    "    return word_tokenize(input_text, engine='newmm', keep_whitespace=False)\n",
    "\n",
    "def text_count(input_list: list[str]) -> Counter:\n",
    "    return Counter(input_list)"
   ]
  },
  {
   "cell_type": "code",
   "execution_count": null,
   "id": "76743998",
   "metadata": {},
   "outputs": [
    {
     "name": "stdout",
     "output_type": "stream",
     "text": [
      "[10:51:30] | Reading Prachathai Corpus...\n",
      "[10:51:38] | Dataframe shape: (67889, 2)\n",
      "[10:51:38] | Text Cleaning...\n",
      "[10:51:55] | Reshaping...\n",
      "[10:51:55] | Sentence List size: 135778\n",
      "[10:51:55] | Text Tokenization & Word Counting...\n"
     ]
    },
    {
     "name": "stderr",
     "output_type": "stream",
     "text": [
      "100%|██████████| 135778/135778 [12:36<00:00, 179.51it/s]\n"
     ]
    },
    {
     "name": "stdout",
     "output_type": "stream",
     "text": [
      "[11:04:31] | Word List size: 135778\n",
      "[11:04:31] | Filtering Counter...\n"
     ]
    },
    {
     "name": "stderr",
     "output_type": "stream",
     "text": [
      "100%|██████████| 76852/76852 [00:00<00:00, 876552.13it/s]\n"
     ]
    },
    {
     "name": "stdout",
     "output_type": "stream",
     "text": [
      "[11:04:31] | Calculating Frequency...\n"
     ]
    },
    {
     "name": "stderr",
     "output_type": "stream",
     "text": [
      "100%|██████████| 76681/76681 [00:00<00:00, 1518151.47it/s]"
     ]
    },
    {
     "name": "stdout",
     "output_type": "stream",
     "text": [
      "[11:04:31] | Done!\n"
     ]
    },
    {
     "name": "stderr",
     "output_type": "stream",
     "text": [
      "\n"
     ]
    }
   ],
   "source": [
    "# Prachathai Corpus\n",
    "timestamp_log(\"Reading Prachathai Corpus...\")\n",
    "df = pd.read_csv(\n",
    "    INPUT_PATH,\n",
    "    sep=\",\",\n",
    "    usecols=[\"title\",\"body_text\"],\n",
    "    # nrows=1000\n",
    "    )\n",
    "timestamp_log(f\"Dataframe shape: {df.shape}\")\n",
    "\n",
    "timestamp_log(\"Text Cleaning...\")\n",
    "df = df.map(text_cleaning)\n",
    "\n",
    "timestamp_log(\"Reshaping...\")\n",
    "list_of_sentence = df.values.reshape((1,-1)).squeeze().tolist()\n",
    "timestamp_log(f\"Sentence List size: {len(list_of_sentence)}\")\n",
    "\n",
    "timestamp_log(\"Text Tokenization & Word Counting...\")\n",
    "list_of_words = list()\n",
    "word_counter = Counter()\n",
    "for sentence in tqdm(list_of_sentence, total=len(list_of_sentence)):\n",
    "    tokens = text_tokenize(sentence)\n",
    "    list_of_words.append(tokens)\n",
    "    word_counter.update(tokens)\n",
    "timestamp_log(f\"Word List size: {len(list_of_words)}\")\n",
    "\n",
    "timestamp_log(\"Filtering Counter...\")\n",
    "filtered_counter = Counter()\n",
    "for word, counts in tqdm(word_counter.items()):\n",
    "    # Keep only tokens with any Thai/Latin characters -- removes tokens like '...' and '-'\n",
    "    if re.search(r'[\\u0E01-\\u0E3A\\u0E40-\\u0E4E\\u0E50-\\u0E59a-zA-Z]', word):\n",
    "        filtered_counter[word] = counts\n",
    "\n",
    "timestamp_log(\"Calculating Frequency...\")\n",
    "word_frequency = dict()\n",
    "total_counts = filtered_counter.total()\n",
    "for word, counts in tqdm(filtered_counter.items()):\n",
    "    word_frequency[word] = counts / total_counts\n",
    "\n",
    "timestamp_log(\"Done!\")"
   ]
  },
  {
   "cell_type": "code",
   "execution_count": null,
   "id": "6115adb0",
   "metadata": {},
   "outputs": [
    {
     "name": "stdout",
     "output_type": "stream",
     "text": [
      "[11:04:31] | Saved to: ../output/prachathai_word_frequency.json\n"
     ]
    }
   ],
   "source": [
    "import json\n",
    "\n",
    "with open(OUTPUT_PATH, \"w\", encoding=\"utf-8\") as f:\n",
    "    json.dump(word_frequency, f, ensure_ascii=False, indent=2)\n",
    "\n",
    "timestamp_log(f\"Saved to: {OUTPUT_PATH}\")"
   ]
  }
 ],
 "metadata": {
  "kernelspec": {
   "display_name": "thaime",
   "language": "python",
   "name": "python3"
  },
  "language_info": {
   "codemirror_mode": {
    "name": "ipython",
    "version": 3
   },
   "file_extension": ".py",
   "mimetype": "text/x-python",
   "name": "python",
   "nbconvert_exporter": "python",
   "pygments_lexer": "ipython3",
   "version": "3.13.5"
  }
 },
 "nbformat": 4,
 "nbformat_minor": 5
}
