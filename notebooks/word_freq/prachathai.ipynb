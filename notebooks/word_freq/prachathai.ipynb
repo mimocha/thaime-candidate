{
 "cells": [
  {
   "cell_type": "code",
   "execution_count": null,
   "id": "70d4f4fa",
   "metadata": {},
   "outputs": [],
   "source": [
    "import sys\n",
    "sys.path.append('../..')\n",
    "from collections import Counter\n",
    "from datetime import datetime\n",
    "\n",
    "import pandas as pd\n",
    "from tqdm import tqdm\n",
    "\n",
    "from utils.word_freq import *\n",
    "\n",
    "timestamp_log = lambda msg: print(f\"[{datetime.now().strftime('%H:%M:%S')}] | {msg}\")\n",
    "\n",
    "INPUT_PATH = \"../../raw_data/prachathai/prachathai-67k.csv\"\n",
    "OUTPUT_PATH = \"../../artifacts/word_freq/prachathai.json\""
   ]
  },
  {
   "cell_type": "code",
   "execution_count": null,
   "id": "76743998",
   "metadata": {},
   "outputs": [],
   "source": [
    "# Prachathai Corpus\n",
    "timestamp_log(\"Reading Prachathai Corpus...\")\n",
    "df = pd.read_csv(\n",
    "    INPUT_PATH,\n",
    "    sep=\",\",\n",
    "    usecols=[\"title\",\"body_text\"],\n",
    "    )\n",
    "timestamp_log(f\"Dataframe shape: {df.shape}\")\n",
    "\n",
    "timestamp_log(\"Text Cleaning...\")\n",
    "df = df.map(text_cleaning)\n",
    "\n",
    "timestamp_log(\"Reshaping...\")\n",
    "list_of_sentence = df.values.reshape((1,-1)).squeeze().tolist()\n",
    "timestamp_log(f\"Sentence List size: {len(list_of_sentence)}\")\n",
    "\n",
    "timestamp_log(\"Text Tokenization & Word Counting...\")\n",
    "list_of_words = list()\n",
    "word_counter = Counter()\n",
    "for sentence in tqdm(list_of_sentence, total=len(list_of_sentence)):\n",
    "    tokens = text_tokenize(sentence)\n",
    "    list_of_words.append(tokens)\n",
    "    word_counter.update(tokens)\n",
    "timestamp_log(f\"Word List size: {len(list_of_words)}\")\n",
    "\n",
    "timestamp_log(\"Filtering Counter...\")\n",
    "filtered_counter = Counter()\n",
    "for word, counts in tqdm(word_counter.items()):\n",
    "    # Keep only tokens with any Thai/Latin characters -- removes tokens like '...' and '-'\n",
    "    if re.search(r'[\\u0E01-\\u0E3A\\u0E40-\\u0E4E\\u0E50-\\u0E59a-zA-Z]', word):\n",
    "        filtered_counter[word] = counts\n",
    "\n",
    "timestamp_log(\"Calculating Frequency...\")\n",
    "word_frequency = dict()\n",
    "total_counts = filtered_counter.total()\n",
    "for word, counts in tqdm(filtered_counter.items()):\n",
    "    word_frequency[word] = counts / total_counts\n",
    "\n",
    "timestamp_log(\"Done!\")"
   ]
  },
  {
   "cell_type": "code",
   "execution_count": null,
   "id": "6115adb0",
   "metadata": {},
   "outputs": [],
   "source": [
    "import json\n",
    "\n",
    "with open(OUTPUT_PATH, \"w\", encoding=\"utf-8\") as f:\n",
    "    json.dump(word_frequency, f, ensure_ascii=False, indent=2)\n",
    "\n",
    "timestamp_log(f\"Saved to: {OUTPUT_PATH}\")"
   ]
  }
 ],
 "metadata": {
  "kernelspec": {
   "display_name": "thaime",
   "language": "python",
   "name": "python3"
  },
  "language_info": {
   "codemirror_mode": {
    "name": "ipython",
    "version": 3
   },
   "file_extension": ".py",
   "mimetype": "text/x-python",
   "name": "python",
   "nbconvert_exporter": "python",
   "pygments_lexer": "ipython3",
   "version": "3.13.5"
  }
 },
 "nbformat": 4,
 "nbformat_minor": 5
}
