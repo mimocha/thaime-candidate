{
 "cells": [
  {
   "cell_type": "markdown",
   "id": "77487504",
   "metadata": {},
   "source": [
    "# Combine Word Frequencies\n",
    "\n",
    "This notebook combines word frequency data from multiple corpora located in `artifacts/word_freq`. Each file is a JSON dictionary of `{word: norm_freq}`.\n",
    "\n",
    "The combination is done using a weighted average of the normalized frequencies for each word across all corpora. The weights can be adjusted in the second cell.\n",
    "\n",
    "The final combined word frequency list is saved to `artifacts/combined_word_freq.json`."
   ]
  },
  {
   "cell_type": "code",
   "execution_count": 1,
   "id": "deacb4a9",
   "metadata": {},
   "outputs": [],
   "source": [
    "import json\n",
    "from pathlib import Path\n",
    "import pandas as pd\n",
    "import numpy as np\n",
    "\n",
    "# Define paths\n",
    "WORD_FREQ_DIR = Path(\"../artifacts/word_freq\")\n",
    "OUTPUT_PATH = Path(\"../artifacts/combined_word_freq.json\")\n",
    "\n",
    "# Ensure output directory exists\n",
    "OUTPUT_PATH.parent.mkdir(parents=True, exist_ok=True)"
   ]
  },
  {
   "cell_type": "code",
   "execution_count": 2,
   "id": "c4a16a11",
   "metadata": {},
   "outputs": [
    {
     "name": "stdout",
     "output_type": "stream",
     "text": [
      "Loaded 4 corpora: ['prachathai', 'wisesight', 'wongnai', 'thwiki']\n"
     ]
    },
    {
     "data": {
      "application/vnd.microsoft.datawrangler.viewer.v0+json": {
       "columns": [
        {
         "name": "index",
         "rawType": "object",
         "type": "string"
        },
        {
         "name": "prachathai",
         "rawType": "float64",
         "type": "float"
        },
        {
         "name": "wisesight",
         "rawType": "float64",
         "type": "float"
        },
        {
         "name": "wongnai",
         "rawType": "float64",
         "type": "float"
        },
        {
         "name": "thwiki",
         "rawType": "float64",
         "type": "float"
        }
       ],
       "ref": "d3e51ecc-b762-4e15-8dea-21bfae2730fc",
       "rows": [
        [
         "นักวิจัย",
         "5.0634941726572886e-05",
         "8.641100530563572e-06",
         "0.0",
         "3.0869802731692694e-05"
        ],
        [
         "หนุน",
         "7.169232997141813e-05",
         "1.944247619376804e-05",
         "2.166700521362313e-06",
         "1.3000426579602341e-05"
        ],
        [
         "แม้ว",
         "1.1593714777032922e-05",
         "6.480825397922679e-06",
         "5.416751303405783e-06",
         "1.9624847766660856e-06"
        ],
        [
         "เปิด",
         "0.0005981413316718059",
         "0.0010974197673815737",
         "0.0016161780305595052",
         "0.0005004584596293033"
        ],
        [
         "จีเอ็มโอ",
         "3.8612359571844544e-05",
         "0.0",
         "0.0",
         "4.5542895661027307e-07"
        ]
       ],
       "shape": {
        "columns": 4,
        "rows": 5
       }
      },
      "text/html": [
       "<div>\n",
       "<style scoped>\n",
       "    .dataframe tbody tr th:only-of-type {\n",
       "        vertical-align: middle;\n",
       "    }\n",
       "\n",
       "    .dataframe tbody tr th {\n",
       "        vertical-align: top;\n",
       "    }\n",
       "\n",
       "    .dataframe thead th {\n",
       "        text-align: right;\n",
       "    }\n",
       "</style>\n",
       "<table border=\"1\" class=\"dataframe\">\n",
       "  <thead>\n",
       "    <tr style=\"text-align: right;\">\n",
       "      <th></th>\n",
       "      <th>prachathai</th>\n",
       "      <th>wisesight</th>\n",
       "      <th>wongnai</th>\n",
       "      <th>thwiki</th>\n",
       "    </tr>\n",
       "  </thead>\n",
       "  <tbody>\n",
       "    <tr>\n",
       "      <th>นักวิจัย</th>\n",
       "      <td>0.000051</td>\n",
       "      <td>0.000009</td>\n",
       "      <td>0.000000</td>\n",
       "      <td>3.086980e-05</td>\n",
       "    </tr>\n",
       "    <tr>\n",
       "      <th>หนุน</th>\n",
       "      <td>0.000072</td>\n",
       "      <td>0.000019</td>\n",
       "      <td>0.000002</td>\n",
       "      <td>1.300043e-05</td>\n",
       "    </tr>\n",
       "    <tr>\n",
       "      <th>แม้ว</th>\n",
       "      <td>0.000012</td>\n",
       "      <td>0.000006</td>\n",
       "      <td>0.000005</td>\n",
       "      <td>1.962485e-06</td>\n",
       "    </tr>\n",
       "    <tr>\n",
       "      <th>เปิด</th>\n",
       "      <td>0.000598</td>\n",
       "      <td>0.001097</td>\n",
       "      <td>0.001616</td>\n",
       "      <td>5.004585e-04</td>\n",
       "    </tr>\n",
       "    <tr>\n",
       "      <th>จีเอ็มโอ</th>\n",
       "      <td>0.000039</td>\n",
       "      <td>0.000000</td>\n",
       "      <td>0.000000</td>\n",
       "      <td>4.554290e-07</td>\n",
       "    </tr>\n",
       "  </tbody>\n",
       "</table>\n",
       "</div>"
      ],
      "text/plain": [
       "          prachathai  wisesight   wongnai        thwiki\n",
       "นักวิจัย    0.000051   0.000009  0.000000  3.086980e-05\n",
       "หนุน        0.000072   0.000019  0.000002  1.300043e-05\n",
       "แม้ว        0.000012   0.000006  0.000005  1.962485e-06\n",
       "เปิด        0.000598   0.001097  0.001616  5.004585e-04\n",
       "จีเอ็มโอ    0.000039   0.000000  0.000000  4.554290e-07"
      ]
     },
     "execution_count": 2,
     "metadata": {},
     "output_type": "execute_result"
    }
   ],
   "source": [
    "# Load all word frequency files\n",
    "json_files = list(WORD_FREQ_DIR.glob(\"*.json\"))\n",
    "\n",
    "if not json_files:\n",
    "    raise FileNotFoundError(f\"No JSON files found in {WORD_FREQ_DIR}\")\n",
    "\n",
    "all_freqs = {}\n",
    "corpus_names = []\n",
    "for file_path in json_files:\n",
    "    corpus_name = file_path.stem\n",
    "    corpus_names.append(corpus_name)\n",
    "    with open(file_path, \"r\", encoding=\"utf-8\") as f:\n",
    "        all_freqs[corpus_name] = json.load(f)\n",
    "\n",
    "print(f\"Loaded {len(corpus_names)} corpora: {corpus_names}\")\n",
    "\n",
    "# Create a DataFrame from the loaded data\n",
    "df = pd.DataFrame(all_freqs).fillna(0)\n",
    "df.head()"
   ]
  },
  {
   "cell_type": "code",
   "execution_count": 3,
   "id": "14fdba29",
   "metadata": {},
   "outputs": [
    {
     "name": "stdout",
     "output_type": "stream",
     "text": [
      "Using normalized weights:\n",
      "{\n",
      "  \"prachathai\": 0.25,\n",
      "  \"wisesight\": 0.25,\n",
      "  \"wongnai\": 0.25,\n",
      "  \"thwiki\": 0.25\n",
      "}\n"
     ]
    }
   ],
   "source": [
    "# --- Define weights for each corpus ---\n",
    "# By default, we use equal weights.\n",
    "# You can modify the weights here. The weights will be normalized.\n",
    "weights = {name: 1.0 for name in corpus_names}\n",
    "\n",
    "# Example of custom weights:\n",
    "# weights = {\n",
    "#     'corpus1': 1.0,\n",
    "#     'corpus2': 1.5,\n",
    "#     'corpus3': 0.8\n",
    "# }\n",
    "\n",
    "# Normalize weights to sum to 1\n",
    "total_weight = sum(weights.values())\n",
    "normalized_weights = {name: w / total_weight for name, w in weights.items()}\n",
    "\n",
    "print(\"Using normalized weights:\")\n",
    "print(json.dumps(normalized_weights, indent=2))\n",
    "\n",
    "# Get weights in the same order as dataframe columns\n",
    "weight_values = [normalized_weights[col] for col in df.columns]"
   ]
  },
  {
   "cell_type": "code",
   "execution_count": 4,
   "id": "74bd95bd",
   "metadata": {},
   "outputs": [
    {
     "data": {
      "application/vnd.microsoft.datawrangler.viewer.v0+json": {
       "columns": [
        {
         "name": "index",
         "rawType": "object",
         "type": "string"
        },
        {
         "name": "0",
         "rawType": "float64",
         "type": "float"
        }
       ],
       "ref": "94f00a8c-f9ec-4ff1-b661-73eb7636dc38",
       "rows": [
        [
         "ที่",
         "0.018033331347173186"
        ],
        [
         "ไม่",
         "0.014748912788536947"
        ],
        [
         "ใน",
         "0.013314872434396155"
        ],
        [
         "มี",
         "0.013078306106544101"
        ],
        [
         "และ",
         "0.012821870932189604"
        ],
        [
         "ของ",
         "0.010542853385831996"
        ],
        [
         "ได้",
         "0.010383558925224782"
        ],
        [
         "เป็น",
         "0.010019672989275355"
        ],
        [
         "มา",
         "0.008943754353560027"
        ],
        [
         "ไป",
         "0.008280871788385553"
        ]
       ],
       "shape": {
        "columns": 1,
        "rows": 10
       }
      },
      "text/plain": [
       "ที่     0.018033\n",
       "ไม่     0.014749\n",
       "ใน      0.013315\n",
       "มี      0.013078\n",
       "และ     0.012822\n",
       "ของ     0.010543\n",
       "ได้     0.010384\n",
       "เป็น    0.010020\n",
       "มา      0.008944\n",
       "ไป      0.008281\n",
       "dtype: float64"
      ]
     },
     "execution_count": 4,
     "metadata": {},
     "output_type": "execute_result"
    }
   ],
   "source": [
    "# Calculate the weighted average for each word\n",
    "combined_freq = df.apply(\n",
    "    lambda row: np.average(row, weights=weight_values),\n",
    "    axis=1\n",
    ")\n",
    "\n",
    "# Sort by most common first\n",
    "combined_freq.sort_values(ascending=False, inplace=True)\n",
    "\n",
    "# Convert the result to a dictionary\n",
    "combined_freq_dict = combined_freq.to_dict()\n",
    "\n",
    "# Display first 10 items of the combined frequencies\n",
    "combined_freq.head(10)"
   ]
  },
  {
   "cell_type": "code",
   "execution_count": 5,
   "id": "43387ad6",
   "metadata": {},
   "outputs": [
    {
     "name": "stdout",
     "output_type": "stream",
     "text": [
      "Total unique word counts: 109999\n"
     ]
    },
    {
     "data": {
      "application/vnd.microsoft.datawrangler.viewer.v0+json": {
       "columns": [
        {
         "name": "index",
         "rawType": "object",
         "type": "string"
        },
        {
         "name": "0",
         "rawType": "float64",
         "type": "float"
        }
       ],
       "ref": "2dc9d4be-f3ed-4721-bca4-2031f4801d20",
       "rows": [
        [
         "count",
         "109999.0"
        ],
        [
         "mean",
         "9.090991736288513e-06"
        ],
        [
         "std",
         "0.000152319459020303"
        ],
        [
         "min",
         "6.21039486286736e-09"
        ],
        [
         "25%",
         "1.4295579256514084e-08"
        ],
        [
         "50%",
         "6.003381700771781e-08"
        ],
        [
         "75%",
         "5.913346305922451e-07"
        ],
        [
         "max",
         "0.018033331347173186"
        ]
       ],
       "shape": {
        "columns": 1,
        "rows": 8
       }
      },
      "text/plain": [
       "count    1.099990e+05\n",
       "mean     9.090992e-06\n",
       "std      1.523195e-04\n",
       "min      6.210395e-09\n",
       "25%      1.429558e-08\n",
       "50%      6.003382e-08\n",
       "75%      5.913346e-07\n",
       "max      1.803333e-02\n",
       "dtype: float64"
      ]
     },
     "execution_count": 5,
     "metadata": {},
     "output_type": "execute_result"
    }
   ],
   "source": [
    "print(f\"Total unique word counts: {len(combined_freq_dict)}\")\n",
    "\n",
    "combined_freq.describe()"
   ]
  },
  {
   "cell_type": "code",
   "execution_count": 6,
   "id": "f6fc6348",
   "metadata": {},
   "outputs": [
    {
     "name": "stdout",
     "output_type": "stream",
     "text": [
      "Combined word frequencies saved to ../artifacts/combined_word_freq.json\n"
     ]
    }
   ],
   "source": [
    "# Save the combined frequencies to a JSON file\n",
    "with open(OUTPUT_PATH, \"w\", encoding=\"utf-8\") as f:\n",
    "    json.dump(combined_freq_dict, f, ensure_ascii=False, indent=2)\n",
    "\n",
    "print(f\"Combined word frequencies saved to {OUTPUT_PATH}\")"
   ]
  }
 ],
 "metadata": {
  "kernelspec": {
   "display_name": "thaime",
   "language": "python",
   "name": "python3"
  },
  "language_info": {
   "codemirror_mode": {
    "name": "ipython",
    "version": 3
   },
   "file_extension": ".py",
   "mimetype": "text/x-python",
   "name": "python",
   "nbconvert_exporter": "python",
   "pygments_lexer": "ipython3",
   "version": "3.13.5"
  }
 },
 "nbformat": 4,
 "nbformat_minor": 5
}
