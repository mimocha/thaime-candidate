{
 "cells": [
  {
   "cell_type": "markdown",
   "id": "77487504",
   "metadata": {},
   "source": [
    "# Combine Word Frequencies\n",
    "\n",
    "This notebook combines word frequency data from multiple corpora located in `artifacts/word_freq`. Each file is a JSON dictionary of `{word: norm_freq}`.\n",
    "\n",
    "The combination is done using a weighted average of the normalized frequencies for each word across all corpora. The weights can be adjusted in the second cell.\n",
    "\n",
    "The final combined word frequency list is saved to `artifacts/combined_word_freq.json`."
   ]
  },
  {
   "cell_type": "code",
   "execution_count": null,
   "id": "deacb4a9",
   "metadata": {},
   "outputs": [],
   "source": [
    "import json\n",
    "from pathlib import Path\n",
    "import pandas as pd\n",
    "import numpy as np\n",
    "\n",
    "# Define paths\n",
    "WORD_FREQ_DIR = Path(\"../artifacts/word_freq\")\n",
    "OUTPUT_PATH = Path(\"../artifacts/combined_word_freq.json\")\n",
    "\n",
    "# Ensure output directory exists\n",
    "OUTPUT_PATH.parent.mkdir(parents=True, exist_ok=True)"
   ]
  },
  {
   "cell_type": "code",
   "execution_count": null,
   "id": "c4a16a11",
   "metadata": {},
   "outputs": [],
   "source": [
    "# Load all word frequency files\n",
    "json_files = list(WORD_FREQ_DIR.glob(\"*.json\"))\n",
    "\n",
    "if not json_files:\n",
    "    raise FileNotFoundError(f\"No JSON files found in {WORD_FREQ_DIR}\")\n",
    "\n",
    "all_freqs = {}\n",
    "corpus_names = []\n",
    "for file_path in json_files:\n",
    "    corpus_name = file_path.stem\n",
    "    corpus_names.append(corpus_name)\n",
    "    with open(file_path, \"r\", encoding=\"utf-8\") as f:\n",
    "        all_freqs[corpus_name] = json.load(f)\n",
    "\n",
    "print(f\"Loaded {len(corpus_names)} corpora: {corpus_names}\")\n",
    "\n",
    "# Create a DataFrame from the loaded data\n",
    "df = pd.DataFrame(all_freqs).fillna(0)\n",
    "df.head()"
   ]
  },
  {
   "cell_type": "code",
   "execution_count": null,
   "id": "14fdba29",
   "metadata": {},
   "outputs": [],
   "source": [
    "# --- Define weights for each corpus ---\n",
    "# By default, we use equal weights.\n",
    "# You can modify the weights here. The weights will be normalized.\n",
    "weights = {name: 1.0 for name in corpus_names}\n",
    "\n",
    "# Example of custom weights:\n",
    "# weights = {\n",
    "#     'corpus1': 1.0,\n",
    "#     'corpus2': 1.5,\n",
    "#     'corpus3': 0.8\n",
    "# }\n",
    "\n",
    "# Normalize weights to sum to 1\n",
    "total_weight = sum(weights.values())\n",
    "normalized_weights = {name: w / total_weight for name, w in weights.items()}\n",
    "\n",
    "print(\"Using normalized weights:\")\n",
    "print(json.dumps(normalized_weights, indent=2))\n",
    "\n",
    "# Get weights in the same order as dataframe columns\n",
    "weight_values = [normalized_weights[col] for col in df.columns]"
   ]
  },
  {
   "cell_type": "code",
   "execution_count": null,
   "id": "74bd95bd",
   "metadata": {},
   "outputs": [],
   "source": [
    "# Calculate the weighted average for each word\n",
    "combined_freq = df.apply(\n",
    "    lambda row: np.average(row, weights=weight_values),\n",
    "    axis=1\n",
    ")\n",
    "\n",
    "# Convert the result to a dictionary\n",
    "combined_freq_dict = combined_freq.to_dict()\n",
    "\n",
    "# Display first 10 items of the combined frequencies\n",
    "dict(list(combined_freq_dict.items())[:10])"
   ]
  },
  {
   "cell_type": "code",
   "execution_count": null,
   "id": "f6fc6348",
   "metadata": {},
   "outputs": [],
   "source": [
    "# Save the combined frequencies to a JSON file\n",
    "with open(OUTPUT_PATH, \"w\", encoding=\"utf-8\") as f:\n",
    "    json.dump(combined_freq_dict, f, ensure_ascii=False, indent=2)\n",
    "\n",
    "print(f\"Combined word frequencies saved to {OUTPUT_PATH}\")"
   ]
  }
 ],
 "metadata": {
  "kernelspec": {
   "display_name": "thaime",
   "language": "python",
   "name": "python3"
  },
  "language_info": {
   "codemirror_mode": {
    "name": "ipython",
    "version": 3
   },
   "file_extension": ".py",
   "mimetype": "text/x-python",
   "name": "python",
   "nbconvert_exporter": "python",
   "pygments_lexer": "ipython3",
   "version": "3.13.5"
  }
 },
 "nbformat": 4,
 "nbformat_minor": 5
}
